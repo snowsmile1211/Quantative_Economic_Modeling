{
 "cells": [
  {
   "cell_type": "markdown",
   "metadata": {},
   "source": [
    "OOP Review\n",
    "\n",
    "OOP is supported in many languages:\n",
    "\n",
    "JAVA and Ruby are relatively pure OOP\n",
    "Python supports both procedural and object-oriented programming\n",
    "Fortran and MATLAB are mainly procedural, some OOP recently tacked on\n",
    "C is a procedural language, while C++ is C with OOP added on top\n",
    "Let’s cover general OOP concepts before we specialize to Python"
   ]
  },
  {
   "cell_type": "markdown",
   "metadata": {},
   "source": [
    "Key Concepts\n",
    "As discussed an earlier lecture, in the OOP paradigm, data and functions are bundled together into “objects”\n",
    "\n",
    "An example is a Python list, which not only stores data, but also knows how to sort itself, etc."
   ]
  },
  {
   "cell_type": "code",
   "execution_count": 1,
   "metadata": {},
   "outputs": [
    {
     "data": {
      "text/plain": [
       "[1, 4, 5]"
      ]
     },
     "execution_count": 1,
     "metadata": {},
     "output_type": "execute_result"
    }
   ],
   "source": [
    "x = [1,5,4]\n",
    "x.sort()\n",
    "x"
   ]
  },
  {
   "cell_type": "markdown",
   "metadata": {},
   "source": [
    "A class definition is a blueprint for a particular class of objects (e.g., lists, strings or complex numbers)\n",
    "\n",
    "It describes\n",
    "\n",
    "What kind of data the class stores\n",
    "What methods it has for acting on these data\n",
    "An object or instance is a realization of the class, created from the blueprint\n",
    "\n",
    "Each instance has its own unique data\n",
    "Methods set out in the class definition act on this (and other) data\n",
    "In Python, the data and methods of an object are collectively referred to as attributes\n",
    "\n",
    "Attributes are accessed via “dotted attribute notation”"
   ]
  },
  {
   "cell_type": "markdown",
   "metadata": {},
   "source": [
    "object_name.data\n",
    "object_name.method_name()"
   ]
  },
  {
   "cell_type": "code",
   "execution_count": 3,
   "metadata": {},
   "outputs": [
    {
     "data": {
      "text/plain": [
       "['__add__',\n",
       " '__class__',\n",
       " '__contains__',\n",
       " '__delattr__',\n",
       " '__delitem__',\n",
       " '__dir__',\n",
       " '__doc__',\n",
       " '__eq__',\n",
       " '__format__',\n",
       " '__ge__',\n",
       " '__getattribute__',\n",
       " '__getitem__',\n",
       " '__gt__',\n",
       " '__hash__',\n",
       " '__iadd__',\n",
       " '__imul__',\n",
       " '__init__',\n",
       " '__init_subclass__',\n",
       " '__iter__',\n",
       " '__le__',\n",
       " '__len__',\n",
       " '__lt__',\n",
       " '__mul__',\n",
       " '__ne__',\n",
       " '__new__',\n",
       " '__reduce__',\n",
       " '__reduce_ex__',\n",
       " '__repr__',\n",
       " '__reversed__',\n",
       " '__rmul__',\n",
       " '__setattr__',\n",
       " '__setitem__',\n",
       " '__sizeof__',\n",
       " '__str__',\n",
       " '__subclasshook__',\n",
       " 'append',\n",
       " 'clear',\n",
       " 'copy',\n",
       " 'count',\n",
       " 'extend',\n",
       " 'index',\n",
       " 'insert',\n",
       " 'pop',\n",
       " 'remove',\n",
       " 'reverse',\n",
       " 'sort']"
      ]
     },
     "execution_count": 3,
     "metadata": {},
     "output_type": "execute_result"
    }
   ],
   "source": [
    "x = [1,5,4]\n",
    "x.sort()\n",
    "x.__class__\n",
    "#x is an object or instance, created from the definition for Python lists, but with its own particular data\n",
    "#x.sort() and x.__class__ are two attributes of x\n",
    "#dir(x) can be used to view all the attributes of x\n",
    "dir(x)"
   ]
  },
  {
   "cell_type": "markdown",
   "metadata": {},
   "source": [
    "OOP is useful for the same reason that abstraction is useful: for recognizing and exploiting common structure\n"
   ]
  },
  {
   "cell_type": "markdown",
   "metadata": {},
   "source": [
    "\n",
    "For example,\n",
    "\n",
    "#a Markov chain consists of a set of states and a collection of transition probabilities for moving across states\n",
    "#a general equilibrium theory consists of a commodity space, preferences, technologies, and an equilibrium definition\n",
    "#a game consists of a list of players, lists of actions available to each player, player payoffs as functions of all players’ actions, and a timing protocol"
   ]
  },
  {
   "cell_type": "code",
   "execution_count": 7,
   "metadata": {},
   "outputs": [
    {
     "data": {
      "text/plain": [
       "10"
      ]
     },
     "execution_count": 7,
     "metadata": {},
     "output_type": "execute_result"
    }
   ],
   "source": [
    "#Defining Your Own Classes\n",
    "#Example: A Consumer Class\n",
    "'''\n",
    "First we’ll build a Consumer class with\n",
    "\n",
    "#a wealth attribute that stores the consumer’s wealth (data)\n",
    "#an earn method, where earn(y) increments the consumer’s wealth by y\n",
    "#a spend method, where spend(x) either decreases wealth by x or returns an error if insufficient funds exist\n",
    "'''\n",
    "class Consumer:\n",
    "    def __init__(self,w):\n",
    "        self.wealth = w\n",
    "    def earn(self,y):\n",
    "        self.wealth += y\n",
    "    def spend(self,x):\n",
    "        new_wealth = self.wealth - x\n",
    "        if new_wealth < 0:\n",
    "            print('insufficent funds')\n",
    "        else:\n",
    "            self.wealth = new_wealth\n",
    "\n",
    "c1=Consumer(10)\n",
    "c1.wealth"
   ]
  },
  {
   "cell_type": "code",
   "execution_count": 8,
   "metadata": {},
   "outputs": [
    {
     "data": {
      "text/plain": [
       "6"
      ]
     },
     "execution_count": 8,
     "metadata": {},
     "output_type": "execute_result"
    }
   ],
   "source": [
    "c1.spend(4)\n",
    "c1.wealth"
   ]
  },
  {
   "cell_type": "code",
   "execution_count": 9,
   "metadata": {},
   "outputs": [
    {
     "name": "stdout",
     "output_type": "stream",
     "text": [
      "insufficent funds\n"
     ]
    },
    {
     "data": {
      "text/plain": [
       "6"
      ]
     },
     "execution_count": 9,
     "metadata": {},
     "output_type": "execute_result"
    }
   ],
   "source": [
    "c1.spend(8)\n",
    "c1.wealth"
   ]
  },
  {
   "cell_type": "code",
   "execution_count": 10,
   "metadata": {},
   "outputs": [
    {
     "data": {
      "text/plain": [
       "10"
      ]
     },
     "execution_count": 10,
     "metadata": {},
     "output_type": "execute_result"
    }
   ],
   "source": [
    "c1.earn(4)\n",
    "c1.wealth\n"
   ]
  },
  {
   "cell_type": "code",
   "execution_count": 12,
   "metadata": {},
   "outputs": [
    {
     "data": {
      "text/plain": [
       "6"
      ]
     },
     "execution_count": 12,
     "metadata": {},
     "output_type": "execute_result"
    }
   ],
   "source": [
    "c1=Consumer(10)\n",
    "c2=Consumer(20)\n",
    "c1.spend(4)\n",
    "c2.earn(2)\n",
    "c1.wealth\n"
   ]
  },
  {
   "cell_type": "code",
   "execution_count": 13,
   "metadata": {},
   "outputs": [
    {
     "data": {
      "text/plain": [
       "22"
      ]
     },
     "execution_count": 13,
     "metadata": {},
     "output_type": "execute_result"
    }
   ],
   "source": [
    "c2.wealth"
   ]
  },
  {
   "cell_type": "code",
   "execution_count": 14,
   "metadata": {},
   "outputs": [
    {
     "data": {
      "text/plain": [
       "{'wealth': 6}"
      ]
     },
     "execution_count": 14,
     "metadata": {},
     "output_type": "execute_result"
    }
   ],
   "source": [
    "#In fact each instance stores its data in a separate namespace dictionary\n",
    "c1.__dict__"
   ]
  },
  {
   "cell_type": "code",
   "execution_count": 15,
   "metadata": {},
   "outputs": [
    {
     "data": {
      "text/plain": [
       "{'wealth': 22}"
      ]
     },
     "execution_count": 15,
     "metadata": {},
     "output_type": "execute_result"
    }
   ],
   "source": [
    "c2.__dict__"
   ]
  },
  {
   "cell_type": "code",
   "execution_count": 16,
   "metadata": {},
   "outputs": [
    {
     "data": {
      "text/plain": [
       "['__class__',\n",
       " '__delattr__',\n",
       " '__dict__',\n",
       " '__dir__',\n",
       " '__doc__',\n",
       " '__eq__',\n",
       " '__format__',\n",
       " '__ge__',\n",
       " '__getattribute__',\n",
       " '__gt__',\n",
       " '__hash__',\n",
       " '__init__',\n",
       " '__init_subclass__',\n",
       " '__le__',\n",
       " '__lt__',\n",
       " '__module__',\n",
       " '__ne__',\n",
       " '__new__',\n",
       " '__reduce__',\n",
       " '__reduce_ex__',\n",
       " '__repr__',\n",
       " '__setattr__',\n",
       " '__sizeof__',\n",
       " '__str__',\n",
       " '__subclasshook__',\n",
       " '__weakref__',\n",
       " 'earn',\n",
       " 'spend',\n",
       " 'wealth']"
      ]
     },
     "execution_count": 16,
     "metadata": {},
     "output_type": "execute_result"
    }
   ],
   "source": [
    "dir(c1)"
   ]
  },
  {
   "cell_type": "markdown",
   "metadata": {},
   "source": [
    "The rules with self are that\n",
    "\n",
    "#Any instance data should be prepended with self\n",
    "\n",
    "e.g., the earn method references self.wealth rather than just wealth\n",
    "\n",
    "#Any method defined within the class should have self as its first argument\n",
    "\n",
    "e.g., def earn(self, y) rather than just def earn(y)\n",
    "\n",
    "#Any method referenced within the class should be called as self.method_name"
   ]
  },
  {
   "cell_type": "code",
   "execution_count": 17,
   "metadata": {},
   "outputs": [
    {
     "name": "stdout",
     "output_type": "stream",
     "text": [
      "{'__module__': '__main__', '__init__': <function Consumer.__init__ at 0x10e076620>, 'earn': <function Consumer.earn at 0x10e0766a8>, 'spend': <function Consumer.spend at 0x10e076598>, '__dict__': <attribute '__dict__' of 'Consumer' objects>, '__weakref__': <attribute '__weakref__' of 'Consumer' objects>, '__doc__': None}\n"
     ]
    }
   ],
   "source": [
    "print(Consumer.__dict__)\n",
    "#Note how the three methods __init__, earn and spend are stored in the class object"
   ]
  },
  {
   "cell_type": "code",
   "execution_count": null,
   "metadata": {},
   "outputs": [],
   "source": [
    "#Example: The Solow Growth Model"
   ]
  }
 ],
 "metadata": {
  "kernelspec": {
   "display_name": "Python 3",
   "language": "python",
   "name": "python3"
  },
  "language_info": {
   "codemirror_mode": {
    "name": "ipython",
    "version": 3
   },
   "file_extension": ".py",
   "mimetype": "text/x-python",
   "name": "python",
   "nbconvert_exporter": "python",
   "pygments_lexer": "ipython3",
   "version": "3.6.6"
  }
 },
 "nbformat": 4,
 "nbformat_minor": 2
}
