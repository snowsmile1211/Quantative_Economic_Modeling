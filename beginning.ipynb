{
 "cells": [
  {
   "cell_type": "code",
   "execution_count": 1,
   "metadata": {},
   "outputs": [
    {
     "data": {
      "text/plain": [
       "'/Users/cat'"
      ]
     },
     "execution_count": 1,
     "metadata": {},
     "output_type": "execute_result"
    }
   ],
   "source": [
    "pwd"
   ]
  },
  {
   "cell_type": "code",
   "execution_count": 2,
   "metadata": {},
   "outputs": [
    {
     "name": "stdout",
     "output_type": "stream",
     "text": [
      "\u001b[34mApplications\u001b[m\u001b[m/         \u001b[34mMovies\u001b[m\u001b[m/               \u001b[34mWine Files\u001b[m\u001b[m/\r\n",
      "\u001b[34mBox Sync\u001b[m\u001b[m/             \u001b[34mMusic\u001b[m\u001b[m/                \u001b[34manaconda3\u001b[m\u001b[m/\r\n",
      "\u001b[34mCreative Cloud Files\u001b[m\u001b[m/ \u001b[34mPictures\u001b[m\u001b[m/             \u001b[34meclipse-workspace\u001b[m\u001b[m/\r\n",
      "\u001b[34mDesktop\u001b[m\u001b[m/              \u001b[34mProjects\u001b[m\u001b[m/             \u001b[34mtest-repo\u001b[m\u001b[m/\r\n",
      "\u001b[34mDocuments\u001b[m\u001b[m/            \u001b[34mPublic\u001b[m\u001b[m/               \u001b[34mtutorial_env\u001b[m\u001b[m/\r\n",
      "\u001b[34mDownloads\u001b[m\u001b[m/            Untitled.ipynb        \u001b[34m百度云同步盘\u001b[m\u001b[m/\r\n",
      "\u001b[34mGoogle Drive\u001b[m\u001b[m/         Untitled1.ipynb\r\n",
      "\u001b[34mLibrary\u001b[m\u001b[m/              \u001b[34mVirtualBox VMs\u001b[m\u001b[m/\r\n"
     ]
    }
   ],
   "source": [
    "ls"
   ]
  },
  {
   "cell_type": "code",
   "execution_count": 3,
   "metadata": {},
   "outputs": [
    {
     "name": "stdout",
     "output_type": "stream",
     "text": [
      "/Users/cat/Projects\n"
     ]
    }
   ],
   "source": [
    "cd Projects"
   ]
  },
  {
   "cell_type": "code",
   "execution_count": 4,
   "metadata": {},
   "outputs": [
    {
     "name": "stdout",
     "output_type": "stream",
     "text": [
      "\u001b[34mpy4e\u001b[m\u001b[m/\r\n"
     ]
    }
   ],
   "source": [
    "ls"
   ]
  },
  {
   "cell_type": "code",
   "execution_count": 5,
   "metadata": {},
   "outputs": [
    {
     "name": "stdout",
     "output_type": "stream",
     "text": [
      "/Users/cat/Projects/py4e\n"
     ]
    }
   ],
   "source": [
    "cd py4e"
   ]
  },
  {
   "cell_type": "code",
   "execution_count": 6,
   "metadata": {},
   "outputs": [
    {
     "name": "stdout",
     "output_type": "stream",
     "text": [
      "USfloor.py  ex_4_06.py  ex_6_05.py  ex_8_05.py  romeo.txt\r\n",
      "ex_3_01.py  ex_5_01.py  ex_7_01.py  get_pip.py\r\n",
      "ex_3_02.py  ex_5_02.py  ex_8_04.py  mbox.txt\r\n"
     ]
    }
   ],
   "source": [
    "ls"
   ]
  },
  {
   "cell_type": "code",
   "execution_count": 7,
   "metadata": {},
   "outputs": [
    {
     "name": "stdout",
     "output_type": "stream",
     "text": [
      "#US floor converter\r\n",
      "flr=input('European floor?')\r\n",
      "usf=int(flr)+1\r\n",
      "print('US floor',usf)\r\n"
     ]
    }
   ],
   "source": [
    "cat USfloor.py"
   ]
  },
  {
   "cell_type": "code",
   "execution_count": 8,
   "metadata": {},
   "outputs": [
    {
     "name": "stdout",
     "output_type": "stream",
     "text": [
      "European floor?3\n",
      "US floor 4\n"
     ]
    }
   ],
   "source": [
    "run USfloor.py"
   ]
  },
  {
   "cell_type": "code",
   "execution_count": 9,
   "metadata": {},
   "outputs": [
    {
     "name": "stdout",
     "output_type": "stream",
     "text": [
      "Writing USfloortest.py\n"
     ]
    }
   ],
   "source": [
    "%%file USfloortest.py\n",
    "#US floor converter\n",
    "flr=input('European floor?')\n",
    "usf=int(flr)+1\n",
    "print('US floor',usf)"
   ]
  },
  {
   "cell_type": "code",
   "execution_count": null,
   "metadata": {},
   "outputs": [],
   "source": []
  }
 ],
 "metadata": {
  "kernelspec": {
   "display_name": "Python 3",
   "language": "python",
   "name": "python3"
  },
  "language_info": {
   "codemirror_mode": {
    "name": "ipython",
    "version": 3
   },
   "file_extension": ".py",
   "mimetype": "text/x-python",
   "name": "python",
   "nbconvert_exporter": "python",
   "pygments_lexer": "ipython3",
   "version": "3.6.6"
  }
 },
 "nbformat": 4,
 "nbformat_minor": 2
}
